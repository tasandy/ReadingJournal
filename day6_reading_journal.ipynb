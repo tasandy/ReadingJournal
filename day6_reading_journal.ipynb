{
 "cells": [
  {
   "cell_type": "markdown",
   "metadata": {},
   "source": [
    "# Day 6 Reading Journal\n",
    "\n",
    "This journal includes several required exercises, but it is meant to encourage active reading more generally.  You should use the journal to take detailed notes, catalog questions, and explore the content from Think Python deeply.\n",
    "\n",
    "Reading: Think Python Chapters 11.1-4, 14.1-5, 14.7\n",
    "\n",
    "**Due: Thursday, September 23 at 12 noon**"
   ]
  },
  {
   "cell_type": "markdown",
   "metadata": {},
   "source": [
    "## [Chapter 11.1 - 4](http://www.greenteapress.com/thinkpython/html/thinkpython012.html)\n",
    "\n"
   ]
  },
  {
   "cell_type": "markdown",
   "metadata": {},
   "source": [
    "Quick check: In about one sentence using your own words, what is a dictionary?"
   ]
  },
  {
   "cell_type": "markdown",
   "metadata": {},
   "source": [
    "A dictionary is a collection of keys that correspond to a value. They are similar to lists but more general."
   ]
  },
  {
   "cell_type": "markdown",
   "metadata": {},
   "source": [
    "Creating a dictionary:\n",
    "    dict_name = dict()\n",
    "{} == empty dictionary\n",
    "add items to the dictionary like so:\n",
    "    dict_name['key'] = 'value'\n",
    "    dict_name = {key:value, key2:value2}\n",
    "    \n",
    "In general, order of items in dictionaries are random. You use keys\n",
    "to look up corresponding values.\n",
    "len returns # of key value pairs.\n",
    "for loop tranverses keys in the dictionary\n",
    "raise statement causes an exception\n",
    "for dictionaries, keys must be hashable and immutable."
   ]
  },
  {
   "cell_type": "markdown",
   "metadata": {
    "is_question": true,
    "problem": "Exercise 6.4"
   },
   "source": [
    "### Exercise 1\n",
    "\n",
    "Dictionaries have a [method called `get`](https://docs.python.org/2/library/stdtypes.html#mapping-types-dict) that takes a key and a default value. If the key appears in the dictionary, `get` returns the corresponding value; otherwise it returns the default value. For example:\n",
    "\n",
    "```\n",
    ">>> h = histogram('a')\n",
    ">>> print h\n",
    "{'a': 1}\n",
    ">>> h.get('a', 0)\n",
    "1\n",
    ">>> h.get('b', 0)\n",
    "0\n",
    "```\n",
    "\n",
    "Use `get` to write histogram more concisely. You should be able to eliminate the `if` statement. Add unit tests for your histogram implementation.\n"
   ]
  },
  {
   "cell_type": "code",
   "execution_count": 44,
   "metadata": {
    "collapsed": false,
    "solution": "Exercise 6.4"
   },
   "outputs": [
    {
     "name": "stdout",
     "output_type": "stream",
     "text": [
      "t\n",
      "e\n",
      "r\n",
      "i\n",
      "y\n",
      "a\n",
      "k\n",
      "i\n"
     ]
    },
    {
     "data": {
      "text/plain": [
       "{'a': 1, 'e': 1, 'i': 2, 'k': 1, 'r': 1, 't': 1, 'y': 1}"
      ]
     },
     "execution_count": 44,
     "metadata": {},
     "output_type": "execute_result"
    }
   ],
   "source": [
    "def histogram(s):\n",
    "    d = dict()\n",
    "    for c in s:\n",
    "        d[c] = d.get(c,0) + 1\n",
    "        print c\n",
    "    return d\n",
    "\n",
    "histogram('teriyaki')"
   ]
  },
  {
   "cell_type": "markdown",
   "metadata": {
    "is_question": true,
    "problem": "Exercise 6.6"
   },
   "source": [
    "### Exercise 2\n",
    "\n",
    "Dictionaries have a method called `keys` that returns the keys of the dicitonary, in no particular order, as a list.\n",
    "\n",
    "Modify `print_hst` to print the keys and their values in alphabetical order."
   ]
  },
  {
   "cell_type": "code",
   "execution_count": 46,
   "metadata": {
    "collapsed": false,
    "scrolled": true,
    "solution": "Exercise 6.6"
   },
   "outputs": [
    {
     "name": "stdout",
     "output_type": "stream",
     "text": [
      "b\n",
      "r\n",
      "o\n",
      "n\n",
      "t\n",
      "o\n",
      "s\n",
      "a\n",
      "u\n",
      "r\n",
      "u\n",
      "s\n",
      "a 1\n",
      "b 1\n",
      "n 1\n",
      "o 2\n",
      "r 2\n",
      "s 2\n",
      "t 1\n",
      "u 2\n"
     ]
    }
   ],
   "source": [
    "def print_hist(h):\n",
    "    h_sorted = sorted(h.keys()) \n",
    "    for c in h_sorted:\n",
    "        print c, h.get(c)\n",
    "        \n",
    "\n",
    "print_hist(histogram('brontosaurus'))"
   ]
  },
  {
   "cell_type": "markdown",
   "metadata": {},
   "source": [
    "## [Chapter 14](http://www.greenteapress.com/thinkpython/html/thinkpython015.html)"
   ]
  },
  {
   "cell_type": "markdown",
   "metadata": {},
   "source": [
    "Creating and Opening Files:\n",
    "To write a file, you have to open it with mode 'w' as a second parameter.\n",
    "Example:  fout = open('output.txt', 'w')\n",
    "If the file already exists, opening it in 'w' mode will erase the previous content. \n",
    "Write method puts content in the file. It only takes strings.\n",
    "\n"
   ]
  },
  {
   "cell_type": "markdown",
   "metadata": {
    "collapsed": true,
    "problem": "Exercise 6.8"
   },
   "source": [
    "## Exercise\n",
    "\n",
    "Create a function that makes a new file. The file should be called `day6_output.txt` and it should be created in the same directory as the reading assignment.\n",
    "\n",
    "You may find the str function useful. str returns a string representation of a Python object; for example, `str(10)` is the string `'10'` (not the number `10`)."
   ]
  },
  {
   "cell_type": "code",
   "execution_count": 47,
   "metadata": {
    "collapsed": true
   },
   "outputs": [],
   "source": [
    "import os\n",
    "def create_output_file(n):\n",
    "    new_file = open('day6_output.txt', 'w') #creating a new file\n",
    "    new_file.write(str(n)) #converts input to string\n",
    "    new_file.close() \n",
    "    pass\n",
    "\n",
    "create_output_file(100) # This should create a file containing the text \"100\" (without quotes)."
   ]
  },
  {
   "cell_type": "markdown",
   "metadata": {},
   "source": [
    "# Quick poll\n",
    "About how long did you spend working on this Reading Journal?"
   ]
  },
  {
   "cell_type": "markdown",
   "metadata": {},
   "source": [
    "2 hours"
   ]
  },
  {
   "cell_type": "markdown",
   "metadata": {
    "feedback_response": true
   },
   "source": [
    " "
   ]
  }
 ],
 "metadata": {
  "kernelspec": {
   "display_name": "Python 2",
   "language": "python",
   "name": "python2"
  },
  "language_info": {
   "codemirror_mode": {
    "name": "ipython",
    "version": 2
   },
   "file_extension": ".py",
   "mimetype": "text/x-python",
   "name": "python",
   "nbconvert_exporter": "python",
   "pygments_lexer": "ipython2",
   "version": "2.7.6"
  }
 },
 "nbformat": 4,
 "nbformat_minor": 0
}
