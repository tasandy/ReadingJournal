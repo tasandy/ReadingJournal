{
 "cells": [
  {
   "cell_type": "code",
   "execution_count": null,
   "metadata": {
    "collapsed": true
   },
   "outputs": [],
   "source": [
    "import string\n",
    "\n",
    "def get_word_list(file_name):\n",
    "    #removes header\n",
    "    f = open(file_name,'r')\n",
    "    lines = f.readlines()\n",
    "    curr_line = 0\n",
    "    while lines[curr_line].find('START OF THIS PROJECT GUTENBERG EBOOK') == -1:\n",
    "        curr_line += 1\n",
    "    lines = lines[curr_line+1:]\n",
    "    list_of_words = []\n",
    "    #removes punctuations and returns list of words\n",
    "    for sentence in lines:\n",
    "        sentence = sentence.lower()\n",
    "        sentence = sentence.translate(string.maketrans(\"\",\"\"), string.punctuation) \n",
    "        list_of_words.extend(sentence.split())\n",
    "    return list_of_words\n",
    "\n",
    "\n",
    "def get_top_n_words(words_list, n):\n",
    "    word_counts = {}\n",
    "    for word in words_list:\n",
    "        if word in word_counts:\n",
    "            word_counts[word] += 1\n",
    "        else:\n",
    "            word_counts[word] = 1\n",
    "    ordered_by_frequency = sorted(word_counts, key=word_counts.get, reverse=True)\n",
    "    for top_word in ordered_by_frequency[:n]:\n",
    "        print top_word, word_counts[top_word]\n",
    "\n",
    "d = get_word_list('/home/sandy/Desktop/sherlock.txt')\n",
    "get_top_n_words(d, 100)"
   ]
  }
 ],
 "metadata": {
  "kernelspec": {
   "display_name": "Python 2",
   "language": "python",
   "name": "python2"
  },
  "language_info": {
   "codemirror_mode": {
    "name": "ipython",
    "version": 2
   },
   "file_extension": ".py",
   "mimetype": "text/x-python",
   "name": "python",
   "nbconvert_exporter": "python",
   "pygments_lexer": "ipython2",
   "version": "2.7.6"
  }
 },
 "nbformat": 4,
 "nbformat_minor": 1
}
