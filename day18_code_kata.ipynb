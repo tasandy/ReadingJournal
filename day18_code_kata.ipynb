{
 "cells": [
  {
   "cell_type": "markdown",
   "metadata": {},
   "source": [
    "# Day 18 Kata: Data Munging\n",
    "\n",
    "A [code katas](http://codekata.com) is a short exercise for practicing particular Python skills.\n",
    "\n",
    "This exercise is adapted from [Kata04](http://codekata.com/kata/kata04-data-munging/), by Dave Thomas.\n",
    "\n",
    "**Due: Monday, November 7 at 12 noon**"
   ]
  },
  {
   "cell_type": "markdown",
   "metadata": {},
   "source": [
    "### Part One: Weather Data\n",
    "\n",
    "In `./data/weather.dat` you’ll find daily weather data for Morristown, NJ for June 2002.\n",
    "Write a function that outputs the day number (column one) with the smallest temperature spread (the maximum temperature is the second column, the minimum the third column)."
   ]
  },
  {
   "cell_type": "code",
   "execution_count": 116,
   "metadata": {
    "collapsed": false,
    "scrolled": true
   },
   "outputs": [
    {
     "name": "stdout",
     "output_type": "stream",
     "text": [
      "['14', 2.0]\n"
     ]
    }
   ],
   "source": [
    "def find_day_with_smallest_spread():\n",
    "    f = open('./data/weather.dat')\n",
    "    lines = f.readlines()\n",
    "    day_list = []\n",
    "    temperatures = []\n",
    "    \n",
    "    for dates in lines:\n",
    "        day_list.append(dates.split())\n",
    "    del day_list[0:2]\n",
    "    del day_list[30]\n",
    "    \n",
    "    for data in day_list:\n",
    "        day = data[0]\n",
    "        max_temp = data[1]\n",
    "        min_temp = data[2]\n",
    "        max_temp = max_temp.strip('*')\n",
    "        min_temp = min_temp.strip('*')\n",
    "        difference = abs(float(max_temp) - float(min_temp))\n",
    "        temperatures.append([day, difference])\n",
    "    \n",
    "    i = 0\n",
    "    lowest_index = 0\n",
    "    while i < len(temperatures)-1:\n",
    "        lowest_difference = temperatures[i][1]\n",
    "        if temperatures[lowest_index][1] > temperatures[i+1][1]:\n",
    "            lowest_difference = temperatures[i][1]\n",
    "            lowest_index = i + 1\n",
    "        i += 1\n",
    "    return temperatures[lowest_index]\n",
    "\n",
    "print find_day_with_smallest_spread()\n",
    "\n",
    "\n"
   ]
  },
  {
   "cell_type": "markdown",
   "metadata": {},
   "source": [
    "### Part Two: Soccer League Table\n",
    "The file `./data/football.dat` contains the results from the English Premier League for 2001/2.\n",
    "The columns labeled ‘F’ and ‘A’ contain the total number of goals scored for and against each team in that season (so Arsenal scored 79 goals against opponents, and had 36 goals scored against them).\n",
    "Write a function to print the name of the team with the smallest difference in ‘for’ and ‘against’ goals."
   ]
  },
  {
   "cell_type": "code",
   "execution_count": 117,
   "metadata": {
    "collapsed": false
   },
   "outputs": [
    {
     "name": "stdout",
     "output_type": "stream",
     "text": [
      "['Aston_Villa', 1.0]\n"
     ]
    }
   ],
   "source": [
    "def find_team_with_smallest_difference():\n",
    "    f = open('./data/football.dat')\n",
    "    lines = f.readlines()\n",
    "    teams_list = []\n",
    "    scores = []\n",
    "    '''create new column that takes F column and subtracts A column to gain differences.\n",
    "    then use sort to get the smallest difference on top and return output for column 1'''\n",
    "    for line in lines:\n",
    "        teams_list.append(line.split())\n",
    "    \n",
    "    del teams_list[0] \n",
    "    del teams_list[17]\n",
    "    \n",
    "    for data in teams_list:\n",
    "        team = data[1]\n",
    "        for_score = data[6]\n",
    "        against_score = data[8]\n",
    "        difference = abs(float(for_score) - float(against_score))\n",
    "        scores.append([team, difference])\n",
    "    \n",
    "    i = 0\n",
    "    lowest_index = 0\n",
    "    while i < len(scores)-1:\n",
    "        lowest_difference = scores[i][1]\n",
    "        if scores[lowest_index][1] > scores[i+1][1]:\n",
    "            lowest_difference = scores[i][1]\n",
    "            lowest_index = i + 1\n",
    "        i += 1\n",
    "    return scores[lowest_index]\n",
    "\n",
    "    \n",
    "print find_team_with_smallest_difference()\n",
    "\n"
   ]
  },
  {
   "cell_type": "markdown",
   "metadata": {},
   "source": [
    "### Part Three: DRY Fusion\n",
    "“In software engineering, **d**on't **r**epeat **y**ourself (DRY) is a principle of software development, aimed at reducing repetition of information of all kinds” – [Wikipedia](https://en.wikipedia.org/wiki/Don%27t_repeat_yourself).\n",
    "\n",
    "(Compare this to [copy and paste programming](https://en.wikipedia.org/wiki/Copy_and_paste_programming).)\n",
    "\n",
    "Take the two functions written previously and [factor out](https://en.wikipedia.org/wiki/Code_refactoring) as much common code as possible, leaving you with two smaller functions that each call a third function."
   ]
  },
  {
   "cell_type": "code",
   "execution_count": 127,
   "metadata": {
    "collapsed": false
   },
   "outputs": [
    {
     "ename": "NameError",
     "evalue": "global name 'value' is not defined",
     "output_type": "error",
     "traceback": [
      "\u001b[0;31m---------------------------------------------------------------------------\u001b[0m",
      "\u001b[0;31mNameError\u001b[0m                                 Traceback (most recent call last)",
      "\u001b[0;32m<ipython-input-127-26c15979b912>\u001b[0m in \u001b[0;36m<module>\u001b[0;34m()\u001b[0m\n\u001b[1;32m     52\u001b[0m     \u001b[0;32mreturn\u001b[0m \u001b[0mvalue\u001b[0m\u001b[0;34m[\u001b[0m\u001b[0mlowest_index\u001b[0m\u001b[0;34m]\u001b[0m\u001b[0;34m\u001b[0m\u001b[0m\n\u001b[1;32m     53\u001b[0m \u001b[0;34m\u001b[0m\u001b[0m\n\u001b[0;32m---> 54\u001b[0;31m \u001b[0;32mprint\u001b[0m \u001b[0mfind_day_with_smallest_spread\u001b[0m\u001b[0;34m(\u001b[0m\u001b[0;34m)\u001b[0m\u001b[0;34m\u001b[0m\u001b[0m\n\u001b[0m\u001b[1;32m     55\u001b[0m \u001b[0;32mprint\u001b[0m \u001b[0mfind_team_with_smallest_difference\u001b[0m\u001b[0;34m(\u001b[0m\u001b[0;34m)\u001b[0m\u001b[0;34m\u001b[0m\u001b[0m\n",
      "\u001b[0;32m<ipython-input-127-26c15979b912>\u001b[0m in \u001b[0;36mfind_day_with_smallest_spread\u001b[0;34m()\u001b[0m\n\u001b[1;32m     18\u001b[0m         \u001b[0mdifference\u001b[0m \u001b[0;34m=\u001b[0m \u001b[0mabs\u001b[0m\u001b[0;34m(\u001b[0m\u001b[0mfloat\u001b[0m\u001b[0;34m(\u001b[0m\u001b[0mhigh_val\u001b[0m\u001b[0;34m)\u001b[0m \u001b[0;34m-\u001b[0m \u001b[0mfloat\u001b[0m\u001b[0;34m(\u001b[0m\u001b[0mlow_val\u001b[0m\u001b[0;34m)\u001b[0m\u001b[0;34m)\u001b[0m\u001b[0;34m\u001b[0m\u001b[0m\n\u001b[1;32m     19\u001b[0m         \u001b[0mvalue\u001b[0m\u001b[0;34m.\u001b[0m\u001b[0mappend\u001b[0m\u001b[0;34m(\u001b[0m\u001b[0;34m[\u001b[0m\u001b[0mname\u001b[0m\u001b[0;34m,\u001b[0m \u001b[0mdifference\u001b[0m\u001b[0;34m]\u001b[0m\u001b[0;34m)\u001b[0m\u001b[0;34m\u001b[0m\u001b[0m\n\u001b[0;32m---> 20\u001b[0;31m     \u001b[0;32mreturn\u001b[0m \u001b[0mfind_smallest_difference\u001b[0m\u001b[0;34m(\u001b[0m\u001b[0;34m)\u001b[0m\u001b[0;34m\u001b[0m\u001b[0m\n\u001b[0m\u001b[1;32m     21\u001b[0m \u001b[0;34m\u001b[0m\u001b[0m\n\u001b[1;32m     22\u001b[0m \u001b[0;32mdef\u001b[0m \u001b[0mfind_team_with_smallest_difference\u001b[0m\u001b[0;34m(\u001b[0m\u001b[0;34m)\u001b[0m\u001b[0;34m:\u001b[0m\u001b[0;34m\u001b[0m\u001b[0m\n",
      "\u001b[0;32m<ipython-input-127-26c15979b912>\u001b[0m in \u001b[0;36mfind_smallest_difference\u001b[0;34m()\u001b[0m\n\u001b[1;32m     44\u001b[0m     \u001b[0mi\u001b[0m \u001b[0;34m=\u001b[0m \u001b[0;36m0\u001b[0m\u001b[0;34m\u001b[0m\u001b[0m\n\u001b[1;32m     45\u001b[0m     \u001b[0mlowest_index\u001b[0m \u001b[0;34m=\u001b[0m \u001b[0;36m0\u001b[0m\u001b[0;34m\u001b[0m\u001b[0m\n\u001b[0;32m---> 46\u001b[0;31m     \u001b[0;32mwhile\u001b[0m \u001b[0mi\u001b[0m \u001b[0;34m<\u001b[0m \u001b[0mlen\u001b[0m\u001b[0;34m(\u001b[0m\u001b[0mvalue\u001b[0m\u001b[0;34m)\u001b[0m\u001b[0;34m-\u001b[0m\u001b[0;36m1\u001b[0m\u001b[0;34m:\u001b[0m\u001b[0;34m\u001b[0m\u001b[0m\n\u001b[0m\u001b[1;32m     47\u001b[0m         \u001b[0mlowest_difference\u001b[0m \u001b[0;34m=\u001b[0m \u001b[0mvalue\u001b[0m\u001b[0;34m[\u001b[0m\u001b[0mi\u001b[0m\u001b[0;34m]\u001b[0m\u001b[0;34m[\u001b[0m\u001b[0;36m1\u001b[0m\u001b[0;34m]\u001b[0m\u001b[0;34m\u001b[0m\u001b[0m\n\u001b[1;32m     48\u001b[0m         \u001b[0;32mif\u001b[0m \u001b[0mvalue\u001b[0m\u001b[0;34m[\u001b[0m\u001b[0mlowest_index\u001b[0m\u001b[0;34m]\u001b[0m\u001b[0;34m[\u001b[0m\u001b[0;36m1\u001b[0m\u001b[0;34m]\u001b[0m \u001b[0;34m>\u001b[0m \u001b[0mvalue\u001b[0m\u001b[0;34m[\u001b[0m\u001b[0mi\u001b[0m\u001b[0;34m+\u001b[0m\u001b[0;36m1\u001b[0m\u001b[0;34m]\u001b[0m\u001b[0;34m[\u001b[0m\u001b[0;36m1\u001b[0m\u001b[0;34m]\u001b[0m\u001b[0;34m:\u001b[0m\u001b[0;34m\u001b[0m\u001b[0m\n",
      "\u001b[0;31mNameError\u001b[0m: global name 'value' is not defined"
     ]
    }
   ],
   "source": [
    "def find_day_with_smallest_spread():\n",
    "    f = open('./data/weather.dat')\n",
    "    lines = f.readlines()\n",
    "    item_list = []\n",
    "    value = []\n",
    "    \n",
    "    for line in lines:\n",
    "        item_list.append(line.split())\n",
    "    del item_list[0:2]\n",
    "    del item_list[30]\n",
    "    \n",
    "    for data in item_list:\n",
    "        name = data[0]\n",
    "        high_val = data[1]\n",
    "        low_val = data[2]\n",
    "        high_val = high_val.strip('*')\n",
    "        low_val = low_val.strip('*')\n",
    "        difference = abs(float(high_val) - float(low_val))\n",
    "        value.append([name, difference])\n",
    "    return find_smallest_difference()\n",
    "    \n",
    "def find_team_with_smallest_difference():\n",
    "    f = open('./data/football.dat')\n",
    "    lines = f.readlines()\n",
    "    item_list = []\n",
    "    value = []\n",
    "\n",
    "    for line in lines:\n",
    "        item_list.append(line.split())\n",
    "        \n",
    "    del item_list[0]\n",
    "    del item_list[17]\n",
    "    \n",
    "    for data in item_list:\n",
    "        name = data[1]\n",
    "        high_val = data[6]\n",
    "        low_val = data[8]\n",
    "        difference = abs(float(high_val) - float(low_val))\n",
    "        value.append([name, difference])\n",
    "    return find_smallest_difference()\n",
    "    \n",
    "def find_smallest_difference():\n",
    "    i = 0\n",
    "    lowest_index = 0\n",
    "    while i < len(value)-1:\n",
    "        lowest_difference = value[i][1]\n",
    "        if value[lowest_index][1] > value[i+1][1]:\n",
    "            lowest_difference = value[i][1]\n",
    "            lowest_index = i + 1\n",
    "        i += 1\n",
    "    return value[lowest_index]\n",
    "\n",
    "print find_day_with_smallest_spread()\n",
    "print find_team_with_smallest_difference()\n"
   ]
  },
  {
   "cell_type": "markdown",
   "metadata": {},
   "source": [
    "## Quick poll\n",
    "\n",
    "About how long did you spend working on this Reading Journal?"
   ]
  },
  {
   "cell_type": "markdown",
   "metadata": {},
   "source": [
    "3 hours"
   ]
  },
  {
   "cell_type": "markdown",
   "metadata": {},
   "source": [
    "## Reading Journal feedback\n",
    "\n",
    "Have any comments on this Reading Journal? Feel free to leave them below and we'll read them when you submit your journal entry. This could include suggestions to improve the exercises, topics you'd like to see covered in class next time, or other feedback.\n",
    "If you have Python questions or run into problems while completing the reading, you should post them to Piazza instead so you can get a quick response before your journal is submitted."
   ]
  },
  {
   "cell_type": "markdown",
   "metadata": {},
   "source": [
    "Would definitely like to see us go over code refactoring in class! \n"
   ]
  }
 ],
 "metadata": {
  "anaconda-cloud": {},
  "kernelspec": {
   "display_name": "Python 2",
   "language": "python",
   "name": "python2"
  },
  "language_info": {
   "codemirror_mode": {
    "name": "ipython",
    "version": 2
   },
   "file_extension": ".py",
   "mimetype": "text/x-python",
   "name": "python",
   "nbconvert_exporter": "python",
   "pygments_lexer": "ipython2",
   "version": "2.7.6"
  }
 },
 "nbformat": 4,
 "nbformat_minor": 0
}
