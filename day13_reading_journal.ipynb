{
 "cells": [
  {
   "cell_type": "markdown",
   "metadata": {},
   "source": [
    "# Day 13 Reading Journal\n",
    "\n",
    "This journal includes review questions relating to Think Python Chapter 16.\n",
    "\n",
    "**Due: Thursday, October 20 at 12 noon**"
   ]
  },
  {
   "cell_type": "markdown",
   "metadata": {},
   "source": [
    "## Exercise 16-1.\n",
    "Write a function called `print_time` that takes a Time object and prints it in the form `hour:minute:second`.\n",
    "Hint: the format sequence `'%.2d'` prints an integer using at least two digits, including a leading zero if necessary."
   ]
  },
  {
   "cell_type": "code",
   "execution_count": 15,
   "metadata": {
    "collapsed": false
   },
   "outputs": [
    {
     "name": "stdout",
     "output_type": "stream",
     "text": [
      "04:30:54\n"
     ]
    }
   ],
   "source": [
    "class Time(object):\n",
    "    \"\"\"Represents the time of day.\n",
    "    attributes: hour, minute, second\n",
    "    \"\"\"\n",
    "\n",
    "# add your definition of print_time\n",
    "def print_time(time):\n",
    "    print '%.2d:%.2d:%.2d' % (time.hour, time.minute, time.second)\n",
    "\n",
    "# add some code to demonstrate that print_time works\n",
    "time_test = Time()\n",
    "time_test.hour = 4\n",
    "time_test.minute = 30\n",
    "time_test.second = 54\n",
    "print_time(time_test)"
   ]
  },
  {
   "cell_type": "markdown",
   "metadata": {},
   "source": []
  },
  {
   "cell_type": "markdown",
   "metadata": {},
   "source": [
    "## Exercise 16-2\n",
    "Write a boolean function called `is_after` that takes two Time objects, `t1` and `t2`, and returns `True` if `t1` follows `t2` chronologically and `False` otherwise.\n",
    "\n",
    "Challenge: don’t use an `if` statement."
   ]
  },
  {
   "cell_type": "code",
   "execution_count": 23,
   "metadata": {
    "collapsed": false
   },
   "outputs": [
    {
     "name": "stdout",
     "output_type": "stream",
     "text": [
      "20430\n",
      "17430\n"
     ]
    },
    {
     "data": {
      "text/plain": [
       "True"
      ]
     },
     "execution_count": 23,
     "metadata": {},
     "output_type": "execute_result"
    }
   ],
   "source": [
    "def is_after(t1,t2):\n",
    "    t1 = t1.hour*3600 + t1.minute*60 + t1.second\n",
    "    #print t1\n",
    "    t2 = t2.hour*3600 + t2.minute*60 + t2.second\n",
    "    #print t2\n",
    "    return t1 > t2\n",
    "\n",
    "time_1 = Time()\n",
    "time_1.hour = 5\n",
    "time_1.minute = 40\n",
    "time_1.second = 30\n",
    "\n",
    "time_2 = Time()\n",
    "time_2.hour = 4\n",
    "time_2.minute = 50\n",
    "time_2.second = 30\n",
    "\n",
    "is_after(time_1,time_2)"
   ]
  },
  {
   "cell_type": "markdown",
   "metadata": {},
   "source": [
    "## Modifiers\n",
    "Complete the code below, such that it demonstrates:\n",
    "\n",
    "* `increment` behaving as specified\n",
    "* `increment` with incorrect behavior"
   ]
  },
  {
   "cell_type": "code",
   "execution_count": 6,
   "metadata": {
    "collapsed": false
   },
   "outputs": [
    {
     "name": "stdout",
     "output_type": "stream",
     "text": [
      "4 26 5\n",
      "11 41 290\n"
     ]
    }
   ],
   "source": [
    "class Time(object):\n",
    "    \"\"\"Represents the time of day.\n",
    "    attributes: hour, minute, second\n",
    "    \"\"\"\n",
    "\n",
    "def increment(time, seconds):\n",
    "    time.second += seconds\n",
    "    if time.second >= 60:\n",
    "        time.second -= 60\n",
    "        time.minute += 1\n",
    "    if time.minute >= 60:\n",
    "        time.minute -= 60\n",
    "        time.hour += 1\n",
    "\n",
    "t1 = Time() # modify this line to create a new instance of Time\n",
    "t1.hour = 4\n",
    "t1.minute = 25\n",
    "t1.second = 20\n",
    "\n",
    "increment(t1, 45)# modify this line to increment t1 by 45 seconds\n",
    "print t1.hour, t1.minute, t1.second # modify this line to print the attributes of t1, to show that it has been correctly incremented\n",
    "\n",
    "t2 = Time() # modify this line to create another instance of Time\n",
    "t2.hour = 11\n",
    "t2.minute = 40\n",
    "t2.second = 30\n",
    "\n",
    "increment(t2, 320) # modify this line to increment t2\n",
    "print t2.hour, t2.minute, t2.second # modify this line to demonstrate that the previous call to increment behaved incorrectly"
   ]
  },
  {
   "cell_type": "markdown",
   "metadata": {},
   "source": [
    "## Exercise 16-3 (adapted)\n",
    "Fix `increment`, and demonstrate that has the correct behavior in the case that was a problem above.\n",
    "\n",
    "Unlike the version of this question in Think Python, you are allowed (but not required) to use loops."
   ]
  },
  {
   "cell_type": "code",
   "execution_count": 8,
   "metadata": {
    "collapsed": false
   },
   "outputs": [
    {
     "name": "stdout",
     "output_type": "stream",
     "text": [
      "11 45 50\n"
     ]
    }
   ],
   "source": [
    "class Time(object):\n",
    "    \"\"\"Represents the time of day.\n",
    "    attributes: hour, minute, second\n",
    "    \"\"\"\n",
    "\n",
    "def increment(time, seconds):\n",
    "    time.second += seconds\n",
    "    while time.second >= 60:\n",
    "        time.second -= 60\n",
    "        time.minute += 1\n",
    "    if time.minute >= 60:\n",
    "        time.minute -= 60 \n",
    "        time.hour += 1\n",
    "\n",
    "t2 = Time() # modify this line to create another instance of Time\n",
    "t2.hour = 11\n",
    "t2.minute = 40\n",
    "t2.second = 30 \n",
    "increment(t2, 320)# modify this line to increment t2 by the same value as in the previous question\n",
    "print t2.hour, t2.minute, t2.second # modify this line to demonstrate that the previous call to increment behaved incorrectly"
   ]
  },
  {
   "cell_type": "markdown",
   "metadata": {},
   "source": [
    "## PyGame Tutorial\n",
    "Add a link to the PyGame tutorial that you studied.\n",
    "\n",
    "Write a sentence (or more) that summarize the main points of the tutorial."
   ]
  },
  {
   "cell_type": "markdown",
   "metadata": {},
   "source": [
    "http://inventwithpython.com/pygame/chapter2.html\n",
    "\n",
    "This tutorial is a general intro for how to implement common game features using pygame including sound, creating shapes, adding color, animation, and an intro to game states. "
   ]
  },
  {
   "cell_type": "markdown",
   "metadata": {},
   "source": [
    "# Quick poll\n",
    "About how long did you spend working on this Reading Journal?"
   ]
  },
  {
   "cell_type": "code",
   "execution_count": null,
   "metadata": {
    "collapsed": true
   },
   "outputs": [],
   "source": [
    "45 minutes"
   ]
  },
  {
   "cell_type": "markdown",
   "metadata": {},
   "source": [
    " "
   ]
  }
 ],
 "metadata": {
  "anaconda-cloud": {},
  "kernelspec": {
   "display_name": "Python 2",
   "language": "python",
   "name": "python2"
  },
  "language_info": {
   "codemirror_mode": {
    "name": "ipython",
    "version": 2
   },
   "file_extension": ".py",
   "mimetype": "text/x-python",
   "name": "python",
   "nbconvert_exporter": "python",
   "pygments_lexer": "ipython2",
   "version": "2.7.6"
  }
 },
 "nbformat": 4,
 "nbformat_minor": 0
}
